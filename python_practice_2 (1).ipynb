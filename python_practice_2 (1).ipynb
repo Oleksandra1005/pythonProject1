{
  "nbformat": 4,
  "nbformat_minor": 0,
  "metadata": {
    "colab": {
      "provenance": []
    },
    "kernelspec": {
      "name": "python3",
      "display_name": "Python 3"
    },
    "language_info": {
      "name": "python"
    }
  },
  "cells": [
    {
      "cell_type": "markdown",
      "source": [
        "# I. Змінні та памʼять."
      ],
      "metadata": {
        "id": "p9wwt0LZzNvn"
      }
    },
    {
      "cell_type": "markdown",
      "source": [
        "1. Створити змінні, що посилаються на два цілих числа, що однакові за значенням, де значення належить проміжку від -5 до 256. Перевірте, чи будуть ці змінні рівні тільки за значенням або ж ще будуть посилатися на один і той самий обʼєкт в памʼяті? Наведіть код та дайте текстову відповідь нижче."
      ],
      "metadata": {
        "id": "HTJrrm95xSV9"
      }
    },
    {
      "cell_type": "code",
      "execution_count": null,
      "metadata": {
        "id": "TATni2vzayjG",
        "colab": {
          "base_uri": "https://localhost:8080/"
        },
        "outputId": "9516bd10-1860-431c-be9b-20107a4ef501"
      },
      "outputs": [
        {
          "output_type": "stream",
          "name": "stdout",
          "text": [
            "140429642565136\n",
            "140429642565136\n",
            "True\n",
            "True\n"
          ]
        }
      ],
      "source": [
        "a = 42\n",
        "b = 42\n",
        "print(id(a))\n",
        "print(id(b))\n",
        "print(id(a) == id(b))\n",
        "print(a == b)"
      ]
    },
    {
      "cell_type": "markdown",
      "source": [
        "**Було обрано ціле число 42 та створено дві змінні, які рівні за значенням та посилаються на один і той самий об'єкт в пам'яті. **"
      ],
      "metadata": {
        "id": "zfRG_o3WbRdg"
      }
    },
    {
      "cell_type": "markdown",
      "source": [
        "2. За допомогою якої функції можна перевірити належність змінної до вказаного типу даних (напр. чи змінна True посилається на значення булевого та цілочисленого типу)?"
      ],
      "metadata": {
        "id": "ISORzt6M3vAt"
      }
    },
    {
      "cell_type": "code",
      "source": [
        "my_variable = True\n",
        "boolean = isinstance(my_variable, bool)\n",
        "integer = isinstance(my_variable, int)\n",
        "print(boolean)\n",
        "print(integer)"
      ],
      "metadata": {
        "id": "9vL9CFaMbfyo",
        "colab": {
          "base_uri": "https://localhost:8080/"
        },
        "outputId": "54923b9b-839e-478e-90b3-6ffb6514924d"
      },
      "execution_count": null,
      "outputs": [
        {
          "output_type": "stream",
          "name": "stdout",
          "text": [
            "True\n",
            "True\n"
          ]
        }
      ]
    },
    {
      "cell_type": "markdown",
      "source": [
        "# II. Цілі числа та числа з рухомою комою"
      ],
      "metadata": {
        "id": "tRxugKAxwYLw"
      }
    },
    {
      "cell_type": "markdown",
      "source": [
        "3. Створити дві змінні, що посилаються на будь-які ціле число та число з рухомою комою та продемонструвати такі арифметичні операції: додавання, віднімання, ділення, множення, ділення без залишку, ділення по модулю, приведення до ступеню. Всі результати операцій вивести на екран."
      ],
      "metadata": {
        "id": "NLHkgd5Gybc8"
      }
    },
    {
      "cell_type": "code",
      "source": [
        "my_int = 15\n",
        "my_float = 4.6\n",
        "a = my_int + my_float\n",
        "b = my_int - my_float\n",
        "c = my_int / my_float\n",
        "d = my_int * my_float\n",
        "e = my_int // my_float\n",
        "f = my_int % my_float\n",
        "g = my_int **2\n",
        "h = my_float **2\n",
        "print(a, b, c, d, e, f, g, h,)"
      ],
      "metadata": {
        "id": "nb8u_3pjb2cA",
        "colab": {
          "base_uri": "https://localhost:8080/"
        },
        "outputId": "aac8459a-fa79-4d4b-ee79-0cfa7ba10be1"
      },
      "execution_count": null,
      "outputs": [
        {
          "output_type": "stream",
          "name": "stdout",
          "text": [
            "19.6 10.4 3.2608695652173916 69.0 3.0 1.200000000000001 225 21.159999999999997\n"
          ]
        }
      ]
    },
    {
      "cell_type": "markdown",
      "source": [
        "4. Використовуючи змінні з вправи 3, продемонструйте механізм явного перетворення типів, де числа з рухомою комою перетворюються на цілі числа. Також визначте змінну, що посилається на значення булевого типу і спробуйте явно привести її до цілого числа."
      ],
      "metadata": {
        "id": "1kBClKgPzZnC"
      }
    },
    {
      "cell_type": "code",
      "source": [
        "my_float = 4.6\n",
        "my_bool = True\n",
        "print(int(my_float))\n",
        "print(int(my_bool))"
      ],
      "metadata": {
        "id": "TbqJbkeUcKsD",
        "colab": {
          "base_uri": "https://localhost:8080/"
        },
        "outputId": "3c21da6e-3821-4d93-bb1e-0ef8cac0cc87"
      },
      "execution_count": null,
      "outputs": [
        {
          "output_type": "stream",
          "name": "stdout",
          "text": [
            "4\n",
            "1\n"
          ]
        }
      ]
    },
    {
      "cell_type": "markdown",
      "source": [
        "# IІІ. Рядки (String)."
      ],
      "metadata": {
        "id": "EVJ7AflwxrZi"
      }
    },
    {
      "cell_type": "markdown",
      "source": [
        "5. Створити пустий рядок двома різними способами."
      ],
      "metadata": {
        "id": "_s5ECzz9zE61"
      }
    },
    {
      "cell_type": "code",
      "source": [
        "string1 = ''\n",
        "string2 = str()"
      ],
      "metadata": {
        "id": "6gP4q37VfJHY"
      },
      "execution_count": null,
      "outputs": []
    },
    {
      "cell_type": "markdown",
      "source": [
        "6. Створити рядок з апострофом. Зробити його сирим. Вивести обидва рядка на екран."
      ],
      "metadata": {
        "id": "4Bdn9J3MzLf_"
      }
    },
    {
      "cell_type": "code",
      "source": [
        "apostrophe = 'lalala\\'s'\n",
        "raw = r'lalala\\'s'\n",
        "print(apostrophe)\n",
        "print(raw)"
      ],
      "metadata": {
        "id": "ivji_hsmc0GH",
        "colab": {
          "base_uri": "https://localhost:8080/"
        },
        "outputId": "947c50ee-0d46-44a5-9ad6-e2c08657bffb"
      },
      "execution_count": null,
      "outputs": [
        {
          "output_type": "stream",
          "name": "stdout",
          "text": [
            "lalala's\n",
            "lalala\\'s\n"
          ]
        }
      ]
    },
    {
      "cell_type": "markdown",
      "source": [
        "7. Створити змінну, що буде посилатися на Ваше прізвище латинкою. Створити форматований рядок, який буде мати вигляд \"My surname is ______\", де на місці нижніх підкреслень буде Ваше прізвище зі змінної."
      ],
      "metadata": {
        "id": "bg_d8wM4z8dS"
      }
    },
    {
      "cell_type": "code",
      "source": [],
      "metadata": {
        "id": "kuxFgpWndACq"
      },
      "execution_count": null,
      "outputs": []
    },
    {
      "cell_type": "markdown",
      "source": [
        "8. Маючи рядок \"My dog is crazy.\" перетворити його на список [\"my\", \"dog\", \"is\", \"crazy\"]"
      ],
      "metadata": {
        "id": "1Nc6RqvQ0hxU"
      }
    },
    {
      "cell_type": "code",
      "source": [
        "first_line = \"My dog is crazy\"\n",
        "a = first_line.split(\" \")\n",
        "print(a)"
      ],
      "metadata": {
        "id": "w1Ya4RqedUhw",
        "colab": {
          "base_uri": "https://localhost:8080/"
        },
        "outputId": "39ecf76f-dbaa-4de6-be18-835f03897512"
      },
      "execution_count": 1,
      "outputs": [
        {
          "output_type": "stream",
          "name": "stdout",
          "text": [
            "['My', 'dog', 'is', 'crazy']\n"
          ]
        }
      ]
    },
    {
      "cell_type": "markdown",
      "source": [
        "# IV. Робота зі списками."
      ],
      "metadata": {
        "id": "GYVqN9uP1D4n"
      }
    },
    {
      "cell_type": "markdown",
      "source": [
        "9. Створити список двома різними за синтаксисом способами. За допомогою вбудованої функції обчисліть довжину одного з них."
      ],
      "metadata": {
        "id": "7-DeDunw2sO-"
      }
    },
    {
      "cell_type": "code",
      "source": [
        "list1 = [1, 2, 3, 4, 5]\n",
        "list2 = list(\"abcdef\")\n",
        "length_list1 = len(list1)\n",
        "print(length_list1)"
      ],
      "metadata": {
        "id": "zxg06Uuxdyoh",
        "colab": {
          "base_uri": "https://localhost:8080/"
        },
        "outputId": "3183c567-f6d5-479f-a1a1-70cbdea5cc62"
      },
      "execution_count": 2,
      "outputs": [
        {
          "output_type": "stream",
          "name": "stdout",
          "text": [
            "5\n"
          ]
        }
      ]
    },
    {
      "cell_type": "markdown",
      "source": [
        "10. Створіть два списка та за допомогою спеціального методу додайте другий з них в якості останнього елемента першого."
      ],
      "metadata": {
        "id": "8vmGUTjL22gI"
      }
    },
    {
      "cell_type": "code",
      "source": [],
      "metadata": {
        "id": "uHtjWYw7d7hm"
      },
      "execution_count": null,
      "outputs": []
    },
    {
      "cell_type": "markdown",
      "source": [
        "11. Створіть список, де елементами цього списку також є списки. Отримай перший елемент з останнього рядка та виведи значення на екран."
      ],
      "metadata": {
        "id": "JC3BkD-67_--"
      }
    },
    {
      "cell_type": "code",
      "source": [],
      "metadata": {
        "id": "Kz2jZHsGeLlz"
      },
      "execution_count": null,
      "outputs": []
    },
    {
      "cell_type": "markdown",
      "source": [
        "12. Створіть список з десяти елементів різного типу. Отримайте всі елементи, окрім двох перших та двох останніх та збережіть їх в новій змінній."
      ],
      "metadata": {
        "id": "JA47PKTv8zFK"
      }
    },
    {
      "cell_type": "code",
      "source": [
        "my_list = [1, 'two', 3.0, 'qwe', 5, True, 'six', [7, 8], (9, 10), 'abc']\n",
        "modified_list = my_list[2:-2]\n",
        "print(my_list)\n",
        "print(modified_list)"
      ],
      "metadata": {
        "id": "_rHdUR-ueP4-",
        "colab": {
          "base_uri": "https://localhost:8080/"
        },
        "outputId": "6c08f31b-08de-4925-adfa-4e1445219023"
      },
      "execution_count": 4,
      "outputs": [
        {
          "output_type": "stream",
          "name": "stdout",
          "text": [
            "[1, 'two', 3.0, 'qwe', 5, True, 'six', [7, 8], (9, 10), 'abc']\n",
            "[3.0, 'qwe', 5, True, 'six', [7, 8]]\n"
          ]
        }
      ]
    },
    {
      "cell_type": "markdown",
      "source": [
        "# V. Робота з кортежами."
      ],
      "metadata": {
        "id": "pCjR1dJb1Qbi"
      }
    },
    {
      "cell_type": "markdown",
      "source": [
        "14. Створити кортеж з один елементом."
      ],
      "metadata": {
        "id": "fAZCxAX06R_k"
      }
    },
    {
      "cell_type": "code",
      "source": [
        "my_tuple = (42,)\n",
        "print(my_tuple)"
      ],
      "metadata": {
        "id": "H7d82WkQev3e",
        "colab": {
          "base_uri": "https://localhost:8080/"
        },
        "outputId": "514949dd-bb87-441a-9615-b1cffdf2b92c"
      },
      "execution_count": 5,
      "outputs": [
        {
          "output_type": "stream",
          "name": "stdout",
          "text": [
            "(42,)\n"
          ]
        }
      ]
    },
    {
      "cell_type": "markdown",
      "source": [
        "15. Порівняйте список та кортеж. Назвіть схожості та відмінності, випадки використання."
      ],
      "metadata": {
        "id": "8LCtYcmI6w1M"
      }
    },
    {
      "cell_type": "markdown",
      "source": [
        "Схожості: обидва типи даних використовуються для зберігання колекції елементів; як списки, так і кортежі, підтримують індексацію.\n",
        "Відмінності: списки є змінними, а кортежі незмінними; список створюється за допомогою квадратних дужок [], а кортежі за допомогою круглих ()."
      ],
      "metadata": {
        "id": "fUsN1Hnue0C6"
      }
    },
    {
      "cell_type": "markdown",
      "source": [
        "16. Створіть кортеж з 11ти елементів чисел з рухомою комою та отримайте кожен парний за індексом елемент в зворотньому порядку. Наприклад, маючи (1.2, 2.3, 3.3, 4.3, 5.3, 6.3, 7.3, 8.3, 9.3, 0.3), отримати (0.3, 8.3, 6.3, 4.3, 2.3). Результат збережіть в нову змінну та виведіть на екран."
      ],
      "metadata": {
        "id": "m0xrwFijAmDD"
      }
    },
    {
      "cell_type": "code",
      "source": [
        "tuple1 = (1.2, 2.3, 3.3, 4.3, 5.3, 6.3, 7.3, 8.3, 9.3, 0.3, 11.3)\n",
        "tuple2 = tuple(tuple1[-2::-2])\n",
        "print(tuple1)\n",
        "print(tuple2)"
      ],
      "metadata": {
        "id": "p-5DAH6XfAGA",
        "colab": {
          "base_uri": "https://localhost:8080/"
        },
        "outputId": "7f0a25c4-db06-4c36-8686-a5da4b5a0a5d"
      },
      "execution_count": 8,
      "outputs": [
        {
          "output_type": "stream",
          "name": "stdout",
          "text": [
            "(1.2, 2.3, 3.3, 4.3, 5.3, 6.3, 7.3, 8.3, 9.3, 0.3, 11.3)\n",
            "(0.3, 8.3, 6.3, 4.3, 2.3)\n"
          ]
        }
      ]
    },
    {
      "cell_type": "markdown",
      "source": [
        "# VI. Множини (Set)."
      ],
      "metadata": {
        "id": "rW_I9dt3x6cW"
      }
    },
    {
      "cell_type": "markdown",
      "source": [
        "17. Створити множину без елементів. Після цого за допомогою методу додайте кілька різних елементів до множини. Чи множини є змінним типом даних?"
      ],
      "metadata": {
        "id": "zNjRLHLw1Bgg"
      }
    },
    {
      "cell_type": "code",
      "source": [
        "set1 = set()\n",
        "set1.add(24)\n",
        "set1.add('apple')\n",
        "set1.add(314)\n",
        "print(set1)"
      ],
      "metadata": {
        "id": "KOv7zc2Kfo4N",
        "colab": {
          "base_uri": "https://localhost:8080/"
        },
        "outputId": "c8aa77e5-4901-4dbd-8537-f0a477edb7f5"
      },
      "execution_count": 10,
      "outputs": [
        {
          "output_type": "stream",
          "name": "stdout",
          "text": [
            "{24, 314, 'apple'}\n"
          ]
        }
      ]
    },
    {
      "cell_type": "markdown",
      "source": [
        "Множини є змінним типом даних, тому що їх можна змінювати, додаючи та видаляючи елементи після їхнього створення."
      ],
      "metadata": {
        "id": "vxS6dVYiftZQ"
      }
    },
    {
      "cell_type": "markdown",
      "source": [
        "18. Створити множину, маючи список my_list = [1, 1, 2, 67, 67, 8, 9]. Пояснити, чому \"зникли\" деякі елементи."
      ],
      "metadata": {
        "id": "gHpT0Zw_1HEF"
      }
    },
    {
      "cell_type": "code",
      "source": [
        "my_list = [1, 1, 2, 67, 67, 8, 9]\n",
        "my_set = set(my_list)\n",
        "print(my_set)"
      ],
      "metadata": {
        "id": "qCN4uvJ_fxmu",
        "colab": {
          "base_uri": "https://localhost:8080/"
        },
        "outputId": "f53d579b-67a1-4b2c-dfcb-4a044e057f81"
      },
      "execution_count": 11,
      "outputs": [
        {
          "output_type": "stream",
          "name": "stdout",
          "text": [
            "{1, 2, 67, 8, 9}\n"
          ]
        }
      ]
    },
    {
      "cell_type": "markdown",
      "source": [
        "Деякі елементи \"зникають\" у множині через її унікальність та властивість вилучення дублікатів."
      ],
      "metadata": {
        "id": "tFNc1e20fyny"
      }
    },
    {
      "cell_type": "markdown",
      "source": [
        "19. Створіть дві множини. Продемонстуйте над ними операції: обʼєднання, різниці, пересічі та симетричної різниці. Використовуйте методи, що не змінюють множини, а створюють нові."
      ],
      "metadata": {
        "id": "SRMkGizS1UwY"
      }
    },
    {
      "cell_type": "code",
      "source": [],
      "metadata": {
        "id": "h0T-VuDnf3Ri"
      },
      "execution_count": null,
      "outputs": []
    },
    {
      "cell_type": "markdown",
      "source": [
        "# VII. Словники (Dictionary)."
      ],
      "metadata": {
        "id": "kWc8gkzTx7Ea"
      }
    },
    {
      "cell_type": "markdown",
      "source": [
        "20. Створіть пустий словник. До нього додайте чотири пари елементів такі, щоб їхні ключі були різних типів. Чи може список бути ключем? Чому?"
      ],
      "metadata": {
        "id": "i5FLwj-B2ybQ"
      }
    },
    {
      "cell_type": "code",
      "source": [
        "my_dict = {}\n",
        "my_dict[1] = 'integer_key'\n",
        "my_dict['two'] = 'string_key'\n",
        "my_dict[3.0] = 'float_key'\n",
        "my_dict[(4, 5)] = 'tuple_key'\n",
        "print(my_dict)"
      ],
      "metadata": {
        "id": "hxgv3BzrgLAV",
        "colab": {
          "base_uri": "https://localhost:8080/"
        },
        "outputId": "5bfbc592-4b8b-47b2-b186-da666fbf7b6e"
      },
      "execution_count": 14,
      "outputs": [
        {
          "output_type": "stream",
          "name": "stdout",
          "text": [
            "{1: 'integer_key', 'two': 'string_key', 3.0: 'float_key', (4, 5): 'tuple_key'}\n"
          ]
        }
      ]
    },
    {
      "cell_type": "markdown",
      "source": [
        "Ключі у словнику повинні бути незмінними об'єктами. Список є змінним типом даних і він не може бути використаний як ключ у словнику."
      ],
      "metadata": {
        "id": "zwa7UVN-gR3m"
      }
    },
    {
      "cell_type": "markdown",
      "source": [
        "21. Створіть словник, де значенням в одній з пар теж буде словник, який теж має вкладений словник. Виведіть на екран значення, що міститься в словнику, що знаходиться на найнижчому рівні ієрархії вкладеності (найбільш внутрішній)."
      ],
      "metadata": {
        "id": "WM_pMlJsgoNf"
      }
    },
    {
      "cell_type": "code",
      "source": [],
      "metadata": {
        "id": "60dlP7IHhAy4"
      },
      "execution_count": null,
      "outputs": []
    },
    {
      "cell_type": "markdown",
      "source": [
        "# Вітаю! Ви велика(ий) молодець, що впоралась(вся). Похваліть себе та побалуйте чимось приємним. Я Вами пишаюся."
      ],
      "metadata": {
        "id": "xOZP0hkx6cCr"
      }
    }
  ]
}